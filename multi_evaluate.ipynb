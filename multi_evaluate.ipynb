{
 "cells": [
  {
   "cell_type": "code",
   "execution_count": 19,
   "metadata": {},
   "outputs": [],
   "source": [
    "'''Use multiple rounds to get a more robust results'''\n",
    "import torch\n",
    "import numpy as np\n",
    "import pandas as pd\n",
    "import seaborn as sns\n",
    "from sklearn.metrics import confusion_matrix, roc_curve, auc, balanced_accuracy_score\n",
    "import matplotlib.pyplot as plt\n",
    "import torchvision\n",
    "import shutil\n",
    "import os"
   ]
  },
  {
   "cell_type": "code",
   "execution_count": 38,
   "metadata": {},
   "outputs": [],
   "source": [
    "def cal_metrics(csv_path, type_indices, is_binary=False):\n",
    "    '''\n",
    "    calculate average accuracy, accuracy per skin type, PQD, DPM, EOM.\n",
    "    All known skin types\n",
    "    input val results csv path, type_indices: a list\n",
    "    output a dic, 'acc_avg': value, 'acc_per_type': array[x,x,x], 'PQD', 'DPM', 'EOM'\n",
    "    '''\n",
    "    df = pd.read_csv(csv_path)\n",
    "    labels_array = np.zeros((6, len(df['label'].unique())))\n",
    "    correct_array = np.zeros((6, len(df['label'].unique())))\n",
    "    predictions_array = np.zeros((6, len(df['label'].unique())))\n",
    "    positive_list = []  # get positive probability for binary classification\n",
    "    for i in range(df.shape[0]):\n",
    "        prediction = df.iloc[i]['prediction']\n",
    "        label = df.iloc[i]['label']\n",
    "        type = df.iloc[i]['fitzpatrick']-1\n",
    "        labels_array[int(type), int(label)] += 1\n",
    "        predictions_array[int(type),int(prediction)] += 1\n",
    "        if prediction == label:\n",
    "            correct_array[int(type), int(label)] += 1\n",
    "\n",
    "        if is_binary:\n",
    "            if prediction == 0:\n",
    "                positive_list.append(1.0-df.iloc[i]['prediction_probability'])\n",
    "            else:\n",
    "                positive_list.append(df.iloc[i]['prediction_probability'])\n",
    "    \n",
    "    correct_array = correct_array[type_indices]\n",
    "    labels_array = labels_array[type_indices]\n",
    "    predictions_array = predictions_array[type_indices]\n",
    "\n",
    "    # avg acc, acc per type\n",
    "    correct_array_sumc, labels_array_sumc = np.sum(correct_array, axis=1), np.sum(labels_array, axis=1)  # sum skin conditions\n",
    "    acc_array = correct_array_sumc/labels_array_sumc\n",
    "    avg_acc = np.sum(correct_array)/np.sum(labels_array)\n",
    "\n",
    "    # PQD\n",
    "    PQD = acc_array.min()/acc_array.max()\n",
    "\n",
    "    # DPM\n",
    "    demo_array = predictions_array/np.sum(predictions_array, axis=1, keepdims=True)\n",
    "    DPM = np.mean(demo_array.min(axis=0)/demo_array.max(axis=0))\n",
    "\n",
    "    # EOM\n",
    "    eo_array = correct_array/labels_array\n",
    "    EOM = np.mean(np.min(eo_array,axis=0)/np.max(eo_array, axis=0))\n",
    "\n",
    "    # if is binary classification, output AUC\n",
    "    if is_binary:\n",
    "        fpr, tpr, threshold = roc_curve(df['label'], positive_list,drop_intermediate=True)\n",
    "        AUC = auc(fpr, tpr)\n",
    "    else:\n",
    "        AUC = -1\n",
    "\n",
    "    return {'acc_avg': avg_acc, 'acc_per_type': acc_array, 'PQD': PQD, 'DPM': DPM, 'EOM': EOM, 'AUC': AUC}"
   ]
  },
  {
   "cell_type": "code",
   "execution_count": 53,
   "metadata": {},
   "outputs": [
    {
     "name": "stdout",
     "output_type": "stream",
     "text": [
      "acc_avg array\n",
      "[0.83333333 0.79545455 0.79545455 0.81818182 0.82575758]\n",
      "acc per type\n",
      "[[0.83783784 0.84313725 0.81818182]\n",
      " [0.78947368 0.72340426 0.87234043]\n",
      " [0.79069767 0.76086957 0.8372093 ]\n",
      " [0.88372093 0.75555556 0.81818182]\n",
      " [0.81818182 0.73913043 0.92857143]]\n",
      "PQD\n",
      "[0.97040169 0.82926829 0.90881643 0.85497076 0.79598662]\n",
      "DPM\n",
      "[0.83619984 0.63778929 0.62222222 0.81963342 0.82633372]\n",
      "EOM\n",
      "[0.83455882 0.63591954 0.68428571 0.72479947 0.46153846]\n",
      "AUC\n",
      "[0.84771723 0.72021718 0.7974537  0.81539444 0.72934579]\n"
     ]
    }
   ],
   "source": [
    "epoch = 15\n",
    "label = 'high'\n",
    "holdout_set = 'random_holdout' # dermaamin br\n",
    "model_name = 'DisCo'\n",
    "type_indices = [0, 1, 2]\n",
    "csv_folder_list = ['S36', 'S37', 'S38', 'S39', 'S40']\n",
    "is_binary = True\n",
    "\n",
    "avg_array = np.zeros((len(csv_folder_list)))\n",
    "acc_per_type_array = np.zeros((len(csv_folder_list), len(type_indices)))\n",
    "PQD_array = np.zeros((len(csv_folder_list)))\n",
    "DPM_array = np.zeros((len(csv_folder_list)))\n",
    "EOM_array = np.zeros((len(csv_folder_list)))\n",
    "AUC_array = np.zeros((len(csv_folder_list)))\n",
    "\n",
    "for i in range(len(csv_folder_list)):\n",
    "    csv_path = 'results/{}/results_{}_{}_{}_{}.csv'.format(csv_folder_list[i], model_name, epoch,label,holdout_set)\n",
    "    dic = cal_metrics(csv_path, type_indices, is_binary)\n",
    "    avg_array[i] = dic['acc_avg']\n",
    "    acc_per_type_array[i, :] = dic['acc_per_type']\n",
    "    PQD_array[i] = dic['PQD']\n",
    "    DPM_array[i] = dic['DPM']\n",
    "    EOM_array[i] = dic['EOM']\n",
    "    AUC_array[i] = dic['AUC']\n",
    "\n",
    "\n",
    "print('acc_avg array')\n",
    "print(avg_array)\n",
    "print('acc per type')\n",
    "print(acc_per_type_array)\n",
    "print('PQD')\n",
    "print(PQD_array)\n",
    "print('DPM')\n",
    "print(DPM_array)\n",
    "print('EOM')\n",
    "print(EOM_array)\n",
    "print('AUC')\n",
    "print(AUC_array)"
   ]
  },
  {
   "cell_type": "code",
   "execution_count": 54,
   "metadata": {},
   "outputs": [
    {
     "name": "stdout",
     "output_type": "stream",
     "text": [
      "average accuracy mean: 0.8136363636363637, std: 0.015599439607556097\n",
      "accuracy per skin type mean and std\n",
      "[0.82398239 0.76441941 0.85489696] [0.03490856 0.04149565 0.04181162]\n",
      "PQD mean: 0.8718887582886241, std: 0.06153423044630146\n",
      "DPM mean: 0.7484356965797874, std: 0.09696621137513113\n",
      "EOM mean: 0.6682204009648229, std: 0.12238343459550506\n",
      "AUC mean: 0.782025670999462, std: 0.04952239652417176\n"
     ]
    }
   ],
   "source": [
    "print('average accuracy mean: {}, std: {}'.format(avg_array.mean(), avg_array.std()))\n",
    "print('accuracy per skin type mean and std')\n",
    "print(np.mean(acc_per_type_array, axis=0), np.std(acc_per_type_array, axis=0))\n",
    "print('PQD mean: {}, std: {}'.format(PQD_array.mean(), PQD_array.std()))\n",
    "print('DPM mean: {}, std: {}'.format(DPM_array.mean(), DPM_array.std()))\n",
    "print('EOM mean: {}, std: {}'.format(EOM_array.mean(), EOM_array.std()))\n",
    "print('AUC mean: {}, std: {}'.format(AUC_array.mean(), AUC_array.std()))"
   ]
  }
 ],
 "metadata": {
  "interpreter": {
   "hash": "d7d995bc54c9aaecfe64e6668cd10ce18771211a7298b34b6f0fab6698bea7d7"
  },
  "kernelspec": {
   "display_name": "Python 3.8.12 ('skinlesion')",
   "language": "python",
   "name": "python3"
  },
  "language_info": {
   "codemirror_mode": {
    "name": "ipython",
    "version": 3
   },
   "file_extension": ".py",
   "mimetype": "text/x-python",
   "name": "python",
   "nbconvert_exporter": "python",
   "pygments_lexer": "ipython3",
   "version": "3.8.12"
  },
  "orig_nbformat": 4
 },
 "nbformat": 4,
 "nbformat_minor": 2
}
