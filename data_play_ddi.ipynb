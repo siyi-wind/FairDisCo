{
 "cells": [
  {
   "cell_type": "code",
   "execution_count": 1,
   "metadata": {},
   "outputs": [],
   "source": [
    "import pandas as pd\n",
    "from tqdm import tqdm\n",
    "import matplotlib.pyplot as plt\n",
    "import random\n",
    "import os\n",
    "from PIL import Image\n",
    "from skimage import io\n",
    "import numpy as np\n",
    "import seaborn as sns\n",
    "import cv2"
   ]
  },
  {
   "cell_type": "code",
   "execution_count": 2,
   "metadata": {},
   "outputs": [],
   "source": [
    "csv_file = 'ddi_metadata_code.csv'#'fitzpatrick17k.csv'\n",
    "df = pd.read_csv(csv_file)\n",
    "# fig_folder = 'figures/'\n",
    "# code_file = 'fitzpatrick17k_known_code.csv'  # this is to connect class number with class name\n",
    "# code_df = pd.read_csv(code_file)"
   ]
  },
  {
   "cell_type": "code",
   "execution_count": 4,
   "metadata": {},
   "outputs": [
    {
     "data": {
      "text/html": [
       "<div>\n",
       "<style scoped>\n",
       "    .dataframe tbody tr th:only-of-type {\n",
       "        vertical-align: middle;\n",
       "    }\n",
       "\n",
       "    .dataframe tbody tr th {\n",
       "        vertical-align: top;\n",
       "    }\n",
       "\n",
       "    .dataframe thead th {\n",
       "        text-align: right;\n",
       "    }\n",
       "</style>\n",
       "<table border=\"1\" class=\"dataframe\">\n",
       "  <thead>\n",
       "    <tr style=\"text-align: right;\">\n",
       "      <th></th>\n",
       "      <th>Unnamed: 0</th>\n",
       "      <th>DDI_ID</th>\n",
       "      <th>DDI_file</th>\n",
       "      <th>skin_tone</th>\n",
       "      <th>malignant</th>\n",
       "      <th>disease</th>\n",
       "    </tr>\n",
       "  </thead>\n",
       "  <tbody>\n",
       "    <tr>\n",
       "      <th>0</th>\n",
       "      <td>0</td>\n",
       "      <td>1</td>\n",
       "      <td>000001.png</td>\n",
       "      <td>56</td>\n",
       "      <td>True</td>\n",
       "      <td>melanoma-in-situ</td>\n",
       "    </tr>\n",
       "    <tr>\n",
       "      <th>1</th>\n",
       "      <td>1</td>\n",
       "      <td>2</td>\n",
       "      <td>000002.png</td>\n",
       "      <td>56</td>\n",
       "      <td>True</td>\n",
       "      <td>melanoma-in-situ</td>\n",
       "    </tr>\n",
       "    <tr>\n",
       "      <th>2</th>\n",
       "      <td>2</td>\n",
       "      <td>3</td>\n",
       "      <td>000003.png</td>\n",
       "      <td>56</td>\n",
       "      <td>True</td>\n",
       "      <td>mycosis-fungoides</td>\n",
       "    </tr>\n",
       "    <tr>\n",
       "      <th>3</th>\n",
       "      <td>3</td>\n",
       "      <td>4</td>\n",
       "      <td>000004.png</td>\n",
       "      <td>56</td>\n",
       "      <td>True</td>\n",
       "      <td>squamous-cell-carcinoma-in-situ</td>\n",
       "    </tr>\n",
       "    <tr>\n",
       "      <th>4</th>\n",
       "      <td>4</td>\n",
       "      <td>5</td>\n",
       "      <td>000005.png</td>\n",
       "      <td>12</td>\n",
       "      <td>True</td>\n",
       "      <td>basal-cell-carcinoma</td>\n",
       "    </tr>\n",
       "    <tr>\n",
       "      <th>...</th>\n",
       "      <td>...</td>\n",
       "      <td>...</td>\n",
       "      <td>...</td>\n",
       "      <td>...</td>\n",
       "      <td>...</td>\n",
       "      <td>...</td>\n",
       "    </tr>\n",
       "    <tr>\n",
       "      <th>651</th>\n",
       "      <td>651</td>\n",
       "      <td>652</td>\n",
       "      <td>000652.png</td>\n",
       "      <td>34</td>\n",
       "      <td>False</td>\n",
       "      <td>pyogenic-granuloma</td>\n",
       "    </tr>\n",
       "    <tr>\n",
       "      <th>652</th>\n",
       "      <td>652</td>\n",
       "      <td>653</td>\n",
       "      <td>000653.png</td>\n",
       "      <td>34</td>\n",
       "      <td>False</td>\n",
       "      <td>melanocytic-nevi</td>\n",
       "    </tr>\n",
       "    <tr>\n",
       "      <th>653</th>\n",
       "      <td>653</td>\n",
       "      <td>654</td>\n",
       "      <td>000654.png</td>\n",
       "      <td>34</td>\n",
       "      <td>False</td>\n",
       "      <td>acral-melanotic-macule</td>\n",
       "    </tr>\n",
       "    <tr>\n",
       "      <th>654</th>\n",
       "      <td>654</td>\n",
       "      <td>655</td>\n",
       "      <td>000655.png</td>\n",
       "      <td>34</td>\n",
       "      <td>True</td>\n",
       "      <td>squamous-cell-carcinoma</td>\n",
       "    </tr>\n",
       "    <tr>\n",
       "      <th>655</th>\n",
       "      <td>655</td>\n",
       "      <td>656</td>\n",
       "      <td>000656.png</td>\n",
       "      <td>34</td>\n",
       "      <td>True</td>\n",
       "      <td>basal-cell-carcinoma</td>\n",
       "    </tr>\n",
       "  </tbody>\n",
       "</table>\n",
       "<p>656 rows × 6 columns</p>\n",
       "</div>"
      ],
      "text/plain": [
       "     Unnamed: 0  DDI_ID    DDI_file  skin_tone  malignant  \\\n",
       "0             0       1  000001.png         56       True   \n",
       "1             1       2  000002.png         56       True   \n",
       "2             2       3  000003.png         56       True   \n",
       "3             3       4  000004.png         56       True   \n",
       "4             4       5  000005.png         12       True   \n",
       "..          ...     ...         ...        ...        ...   \n",
       "651         651     652  000652.png         34      False   \n",
       "652         652     653  000653.png         34      False   \n",
       "653         653     654  000654.png         34      False   \n",
       "654         654     655  000655.png         34       True   \n",
       "655         655     656  000656.png         34       True   \n",
       "\n",
       "                             disease  \n",
       "0                   melanoma-in-situ  \n",
       "1                   melanoma-in-situ  \n",
       "2                  mycosis-fungoides  \n",
       "3    squamous-cell-carcinoma-in-situ  \n",
       "4               basal-cell-carcinoma  \n",
       "..                               ...  \n",
       "651               pyogenic-granuloma  \n",
       "652                 melanocytic-nevi  \n",
       "653           acral-melanotic-macule  \n",
       "654          squamous-cell-carcinoma  \n",
       "655             basal-cell-carcinoma  \n",
       "\n",
       "[656 rows x 6 columns]"
      ]
     },
     "execution_count": 4,
     "metadata": {},
     "output_type": "execute_result"
    }
   ],
   "source": [
    "df"
   ]
  },
  {
   "cell_type": "code",
   "execution_count": 6,
   "metadata": {},
   "outputs": [
    {
     "data": {
      "text/plain": [
       "34    241\n",
       "12    208\n",
       "56    207\n",
       "Name: skin_tone, dtype: int64"
      ]
     },
     "execution_count": 6,
     "metadata": {},
     "output_type": "execute_result"
    }
   ],
   "source": [
    "df['skin_tone'].value_counts()"
   ]
  },
  {
   "cell_type": "code",
   "execution_count": 7,
   "metadata": {},
   "outputs": [
    {
     "data": {
      "text/plain": [
       "melanocytic-nevi             119\n",
       "seborrheic-keratosis          58\n",
       "verruca-vulgaris              50\n",
       "basal-cell-carcinoma          41\n",
       "epidermal-cyst                35\n",
       "                            ... \n",
       "keloid                         1\n",
       "angioleiomyoma                 1\n",
       "lymphocytic-infiltrations      1\n",
       "wart                           1\n",
       "acral-melanotic-macule         1\n",
       "Name: disease, Length: 78, dtype: int64"
      ]
     },
     "execution_count": 7,
     "metadata": {},
     "output_type": "execute_result"
    }
   ],
   "source": [
    "df['disease'].value_counts()"
   ]
  },
  {
   "cell_type": "code",
   "execution_count": 8,
   "metadata": {},
   "outputs": [
    {
     "data": {
      "text/plain": [
       "False    485\n",
       "True     171\n",
       "Name: malignant, dtype: int64"
      ]
     },
     "execution_count": 8,
     "metadata": {},
     "output_type": "execute_result"
    }
   ],
   "source": [
    "df['malignant'].value_counts()"
   ]
  },
  {
   "cell_type": "code",
   "execution_count": 39,
   "metadata": {},
   "outputs": [
    {
     "data": {
      "text/html": [
       "<div>\n",
       "<style scoped>\n",
       "    .dataframe tbody tr th:only-of-type {\n",
       "        vertical-align: middle;\n",
       "    }\n",
       "\n",
       "    .dataframe tbody tr th {\n",
       "        vertical-align: top;\n",
       "    }\n",
       "\n",
       "    .dataframe thead th {\n",
       "        text-align: right;\n",
       "    }\n",
       "</style>\n",
       "<table border=\"1\" class=\"dataframe\">\n",
       "  <thead>\n",
       "    <tr style=\"text-align: right;\">\n",
       "      <th></th>\n",
       "      <th>Unnamed: 0</th>\n",
       "      <th>DDI_ID</th>\n",
       "      <th>DDI_file</th>\n",
       "      <th>skin_tone</th>\n",
       "      <th>malignant</th>\n",
       "      <th>disease</th>\n",
       "      <th>high</th>\n",
       "      <th>fitzpatrick</th>\n",
       "      <th>hasher</th>\n",
       "      <th>low</th>\n",
       "    </tr>\n",
       "  </thead>\n",
       "  <tbody>\n",
       "    <tr>\n",
       "      <th>0</th>\n",
       "      <td>0</td>\n",
       "      <td>1</td>\n",
       "      <td>000001.png</td>\n",
       "      <td>56</td>\n",
       "      <td>True</td>\n",
       "      <td>melanoma-in-situ</td>\n",
       "      <td>1</td>\n",
       "      <td>3</td>\n",
       "      <td>000001.png</td>\n",
       "      <td>47</td>\n",
       "    </tr>\n",
       "    <tr>\n",
       "      <th>1</th>\n",
       "      <td>1</td>\n",
       "      <td>2</td>\n",
       "      <td>000002.png</td>\n",
       "      <td>56</td>\n",
       "      <td>True</td>\n",
       "      <td>melanoma-in-situ</td>\n",
       "      <td>1</td>\n",
       "      <td>3</td>\n",
       "      <td>000002.png</td>\n",
       "      <td>47</td>\n",
       "    </tr>\n",
       "    <tr>\n",
       "      <th>2</th>\n",
       "      <td>2</td>\n",
       "      <td>3</td>\n",
       "      <td>000003.png</td>\n",
       "      <td>56</td>\n",
       "      <td>True</td>\n",
       "      <td>mycosis-fungoides</td>\n",
       "      <td>1</td>\n",
       "      <td>3</td>\n",
       "      <td>000003.png</td>\n",
       "      <td>51</td>\n",
       "    </tr>\n",
       "    <tr>\n",
       "      <th>3</th>\n",
       "      <td>3</td>\n",
       "      <td>4</td>\n",
       "      <td>000004.png</td>\n",
       "      <td>56</td>\n",
       "      <td>True</td>\n",
       "      <td>squamous-cell-carcinoma-in-situ</td>\n",
       "      <td>1</td>\n",
       "      <td>3</td>\n",
       "      <td>000004.png</td>\n",
       "      <td>67</td>\n",
       "    </tr>\n",
       "    <tr>\n",
       "      <th>4</th>\n",
       "      <td>4</td>\n",
       "      <td>5</td>\n",
       "      <td>000005.png</td>\n",
       "      <td>12</td>\n",
       "      <td>True</td>\n",
       "      <td>basal-cell-carcinoma</td>\n",
       "      <td>1</td>\n",
       "      <td>1</td>\n",
       "      <td>000005.png</td>\n",
       "      <td>11</td>\n",
       "    </tr>\n",
       "    <tr>\n",
       "      <th>...</th>\n",
       "      <td>...</td>\n",
       "      <td>...</td>\n",
       "      <td>...</td>\n",
       "      <td>...</td>\n",
       "      <td>...</td>\n",
       "      <td>...</td>\n",
       "      <td>...</td>\n",
       "      <td>...</td>\n",
       "      <td>...</td>\n",
       "      <td>...</td>\n",
       "    </tr>\n",
       "    <tr>\n",
       "      <th>651</th>\n",
       "      <td>651</td>\n",
       "      <td>652</td>\n",
       "      <td>000652.png</td>\n",
       "      <td>34</td>\n",
       "      <td>False</td>\n",
       "      <td>pyogenic-granuloma</td>\n",
       "      <td>0</td>\n",
       "      <td>2</td>\n",
       "      <td>000652.png</td>\n",
       "      <td>59</td>\n",
       "    </tr>\n",
       "    <tr>\n",
       "      <th>652</th>\n",
       "      <td>652</td>\n",
       "      <td>653</td>\n",
       "      <td>000653.png</td>\n",
       "      <td>34</td>\n",
       "      <td>False</td>\n",
       "      <td>melanocytic-nevi</td>\n",
       "      <td>0</td>\n",
       "      <td>2</td>\n",
       "      <td>000653.png</td>\n",
       "      <td>44</td>\n",
       "    </tr>\n",
       "    <tr>\n",
       "      <th>653</th>\n",
       "      <td>653</td>\n",
       "      <td>654</td>\n",
       "      <td>000654.png</td>\n",
       "      <td>34</td>\n",
       "      <td>False</td>\n",
       "      <td>acral-melanotic-macule</td>\n",
       "      <td>0</td>\n",
       "      <td>2</td>\n",
       "      <td>000654.png</td>\n",
       "      <td>4</td>\n",
       "    </tr>\n",
       "    <tr>\n",
       "      <th>654</th>\n",
       "      <td>654</td>\n",
       "      <td>655</td>\n",
       "      <td>000655.png</td>\n",
       "      <td>34</td>\n",
       "      <td>True</td>\n",
       "      <td>squamous-cell-carcinoma</td>\n",
       "      <td>1</td>\n",
       "      <td>2</td>\n",
       "      <td>000655.png</td>\n",
       "      <td>66</td>\n",
       "    </tr>\n",
       "    <tr>\n",
       "      <th>655</th>\n",
       "      <td>655</td>\n",
       "      <td>656</td>\n",
       "      <td>000656.png</td>\n",
       "      <td>34</td>\n",
       "      <td>True</td>\n",
       "      <td>basal-cell-carcinoma</td>\n",
       "      <td>1</td>\n",
       "      <td>2</td>\n",
       "      <td>000656.png</td>\n",
       "      <td>11</td>\n",
       "    </tr>\n",
       "  </tbody>\n",
       "</table>\n",
       "<p>656 rows × 10 columns</p>\n",
       "</div>"
      ],
      "text/plain": [
       "     Unnamed: 0  DDI_ID    DDI_file  skin_tone  malignant  \\\n",
       "0             0       1  000001.png         56       True   \n",
       "1             1       2  000002.png         56       True   \n",
       "2             2       3  000003.png         56       True   \n",
       "3             3       4  000004.png         56       True   \n",
       "4             4       5  000005.png         12       True   \n",
       "..          ...     ...         ...        ...        ...   \n",
       "651         651     652  000652.png         34      False   \n",
       "652         652     653  000653.png         34      False   \n",
       "653         653     654  000654.png         34      False   \n",
       "654         654     655  000655.png         34       True   \n",
       "655         655     656  000656.png         34       True   \n",
       "\n",
       "                             disease  high  fitzpatrick      hasher  low  \n",
       "0                   melanoma-in-situ     1            3  000001.png   47  \n",
       "1                   melanoma-in-situ     1            3  000002.png   47  \n",
       "2                  mycosis-fungoides     1            3  000003.png   51  \n",
       "3    squamous-cell-carcinoma-in-situ     1            3  000004.png   67  \n",
       "4               basal-cell-carcinoma     1            1  000005.png   11  \n",
       "..                               ...   ...          ...         ...  ...  \n",
       "651               pyogenic-granuloma     0            2  000652.png   59  \n",
       "652                 melanocytic-nevi     0            2  000653.png   44  \n",
       "653           acral-melanotic-macule     0            2  000654.png    4  \n",
       "654          squamous-cell-carcinoma     1            2  000655.png   66  \n",
       "655             basal-cell-carcinoma     1            2  000656.png   11  \n",
       "\n",
       "[656 rows x 10 columns]"
      ]
     },
     "execution_count": 39,
     "metadata": {},
     "output_type": "execute_result"
    }
   ],
   "source": [
    "fitzpatrick_list = []\n",
    "high_list = []\n",
    "hash_list = []\n",
    "for i in range(len(df)):\n",
    "    high_list.append(int(df.iloc[i]['malignant']))\n",
    "    skin_tone = df.iloc[i]['skin_tone']\n",
    "    hash_list.append(df.iloc[i]['DDI_file'])\n",
    "    if skin_tone == 12:\n",
    "        fitzpatrick_list.append(1)\n",
    "    elif skin_tone == 34:\n",
    "        fitzpatrick_list.append(2)\n",
    "    elif skin_tone == 56:\n",
    "        fitzpatrick_list.append(3)\n",
    "df['high'] = high_list\n",
    "df['fitzpatrick'] = fitzpatrick_list\n",
    "df['hasher'] = hash_list\n",
    "df[\"low\"] = df['disease'].astype('category').cat.codes\n",
    "df"
   ]
  },
  {
   "cell_type": "code",
   "execution_count": 40,
   "metadata": {},
   "outputs": [],
   "source": [
    "df.to_csv('ddi_metadata_code.csv', index=False)"
   ]
  },
  {
   "cell_type": "code",
   "execution_count": 36,
   "metadata": {},
   "outputs": [
    {
     "name": "stdout",
     "output_type": "stream",
     "text": [
      "/bigdata/siyiplace/data/skin_lesion/ddidiversedermatologyimages/000006\n"
     ]
    }
   ],
   "source": [
    "path = os.path.join(\"/bigdata/siyiplace/data/skin_lesion/ddidiversedermatologyimages/\",str(df.loc[df.index[5],'hasher']))\n",
    "print(path)"
   ]
  },
  {
   "cell_type": "code",
   "execution_count": 3,
   "metadata": {},
   "outputs": [
    {
     "name": "stdout",
     "output_type": "stream",
     "text": [
      "656\n",
      "1    208\n",
      "2    241\n",
      "3    207\n",
      "Name: fitzpatrick, dtype: int64\n",
      "208\n",
      "0    485\n",
      "1    171\n",
      "Name: high, dtype: int64\n",
      "[[0.         0.        ]\n",
      " [0.96717288 1.10652066]\n",
      " [1.06693625 0.84894117]\n",
      " [0.96252301 1.12414253]]\n",
      "[[  0.   0.]\n",
      " [159.  49.]\n",
      " [167.  74.]\n",
      " [159.  48.]]\n",
      "656\n"
     ]
    }
   ],
   "source": [
    "'''\n",
    "calculate weights for each skin type and condition\n",
    "method 1 reweighting\n",
    "'''\n",
    "level = 'high'\n",
    "total = df['fitzpatrick'].count()  # total samples\n",
    "type_count = df['fitzpatrick'].value_counts().sort_index()\n",
    "condition_count = df[level].value_counts().sort_index()\n",
    "print(total)\n",
    "print(type_count)\n",
    "print(type_count[1])\n",
    "print(condition_count)\n",
    "weight_record = np.zeros((4, 2))\n",
    "num_record = np.zeros((4, 2))\n",
    "for i in range(1, 4): # skin type\n",
    "    for j in range(len(condition_count)): # skin condition\n",
    "        x = df.loc[(df['fitzpatrick']==i) & (df[level]==j)]\n",
    "        num_record[i, j] = len(x)\n",
    "        # print('joint num', len(x))\n",
    "        weight = type_count[i]*condition_count[j]/(len(x)*total)\n",
    "        # print('weight', weight)\n",
    "        weight_record[i, j] = weight\n",
    "print(weight_record)\n",
    "print(num_record)\n",
    "# add weights to the csv file\n",
    "weight_list = []  # weight for each sample in the code_df\n",
    "for k in range(total):\n",
    "    row_data = df.iloc[k]\n",
    "    # print(row_data)\n",
    "    weight_list.append(weight_record[int(row_data['fitzpatrick']), int(row_data[level])])\n",
    "    # print(weight_list)\n",
    "print(len(weight_list))\n",
    "df['REWT_weights'] = weight_list"
   ]
  },
  {
   "cell_type": "code",
   "execution_count": 4,
   "metadata": {},
   "outputs": [
    {
     "name": "stdout",
     "output_type": "stream",
     "text": [
      "[[0.         0.         0.        ]\n",
      " [0.00628931 0.02040816 0.        ]\n",
      " [0.00598802 0.01351351 0.        ]\n",
      " [0.00628931 0.02083333 0.        ]]\n",
      "656\n"
     ]
    }
   ],
   "source": [
    "'''\n",
    "calculate weights for each skin type and condition\n",
    "method 2 resampling   weight=1/num\n",
    "'''\n",
    "level = 'high'\n",
    "total = df['fitzpatrick'].count()  # total samples\n",
    "type_count = df['fitzpatrick'].value_counts().sort_index()\n",
    "condition_count = df[level].value_counts().sort_index()\n",
    "weight_record = np.zeros((4, 3))\n",
    "num_record = np.zeros((4, 3))\n",
    "for i in range(1, 4): # skin type\n",
    "    for j in range(len(condition_count)): # skin condition\n",
    "        x = df.loc[(df['fitzpatrick']==i) & (df[level]==j)]\n",
    "        num_record[i, j] = len(x)\n",
    "        # print('joint num', len(x))\n",
    "        weight = 1/len(x)\n",
    "        # print('weight', weight)\n",
    "        weight_record[i, j] = weight\n",
    "# print(num_record)\n",
    "print(weight_record)\n",
    "# add weights to the csv file\n",
    "weight_list = []  # weight for each sample in the code_df\n",
    "for k in range(total):\n",
    "    row_data = df.iloc[k]\n",
    "    # print(row_data)\n",
    "    weight_list.append(weight_record[int(row_data['fitzpatrick']), int(row_data[level])])\n",
    "    # print(weight_list)\n",
    "print(len(weight_list))\n",
    "df['RESM_weights'] = weight_list"
   ]
  },
  {
   "cell_type": "code",
   "execution_count": 5,
   "metadata": {},
   "outputs": [],
   "source": [
    "df.to_csv(csv_file)"
   ]
  },
  {
   "cell_type": "code",
   "execution_count": 12,
   "metadata": {},
   "outputs": [],
   "source": [
    "df.to_csv('ddi_metadata_code.csv', index=False)"
   ]
  },
  {
   "cell_type": "code",
   "execution_count": 5,
   "metadata": {},
   "outputs": [
    {
     "name": "stdout",
     "output_type": "stream",
     "text": [
      "[[159.  49.]\n",
      " [167.  74.]\n",
      " [159.  48.]]\n",
      "[485. 171.]\n",
      "[208. 241. 207.]\n",
      "656.0\n"
     ]
    }
   ],
   "source": [
    "# get number of samples per skin type per class  out  unknown type\n",
    "np.set_printoptions(suppress=True)\n",
    "label = 'high'\n",
    "# fig_folder = 'figures/'\n",
    "df = pd.read_csv('ddi_metadata_code.csv')\n",
    "whole = np.zeros((3, len(df[label].unique())))  # whole samples\n",
    "\n",
    "for i in range(df.shape[0]):\n",
    "    row = df.iloc[i]\n",
    "    type = int(row['fitzpatrick'])-1\n",
    "    whole[type, row[label]] += 1\n",
    "\n",
    "# calculate row 7. sum row 0-6        \n",
    "# whole[7, :] = np.sum(whole[0:7, :], axis=0)\n",
    "print(whole)\n",
    "print(np.sum(whole, axis=0))\n",
    "print(np.sum(whole, axis=1))\n",
    "print(np.sum(whole)) \n",
    "# plot\n",
    "# plt.figure(figsize=(100,8), dpi=200)\n",
    "# sns.heatmap(record_array[0:7, :], annot=True, fmt=\".2g\", linewidths=.5)\n",
    "# sns.heatmap(whole, annot=True, fmt=\".2g\", linewidths=.5)\n",
    "# plt.xlabel('label')\n",
    "# plt.ylabel('skin type')\n",
    "# name = 'train__class_statistic_{}'.format(label)\n",
    "# plt.title(name)\n",
    "# # plt.savefig(fig_folder+name+'.jpg')\n",
    "# plt.show()"
   ]
  },
  {
   "cell_type": "code",
   "execution_count": 60,
   "metadata": {},
   "outputs": [
    {
     "name": "stdout",
     "output_type": "stream",
     "text": [
      "(458, 323, 3)\n"
     ]
    },
    {
     "data": {
      "text/plain": [
       "<matplotlib.image.AxesImage at 0x7f7df4546be0>"
      ]
     },
     "execution_count": 60,
     "metadata": {},
     "output_type": "execute_result"
    },
    {
     "data": {
      "image/png": "[encoded data removed]",
      "text/plain": [
       "<Figure size 432x288 with 1 Axes>"
      ]
     },
     "metadata": {
      "needs_background": "light"
     },
     "output_type": "display_data"
    }
   ],
   "source": [
    "img_path = '/bigdata/siyiplace/data/skin_lesion/ddidiversedermatologyimages/000006.png'\n",
    "img = cv2.imread(img_path)\n",
    "img = cv2.cvtColor(img, cv2.COLOR_BGR2RGB)\n",
    "# img = io.imread(img_path)\n",
    "img_array = np.asarray(img, dtype=np.float32)\n",
    "print(img_array.shape)\n",
    "plt.imshow(img)"
   ]
  }
 ],
 "metadata": {
  "interpreter": {
   "hash": "d7d995bc54c9aaecfe64e6668cd10ce18771211a7298b34b6f0fab6698bea7d7"
  },
  "kernelspec": {
   "display_name": "Python 3.8.12 ('skinlesion')",
   "language": "python",
   "name": "python3"
  },
  "language_info": {
   "codemirror_mode": {
    "name": "ipython",
    "version": 3
   },
   "file_extension": ".py",
   "mimetype": "text/x-python",
   "name": "python",
   "nbconvert_exporter": "python",
   "pygments_lexer": "ipython3",
   "version": "3.8.12"
  },
  "orig_nbformat": 4
 },
 "nbformat": 4,
 "nbformat_minor": 2
}
